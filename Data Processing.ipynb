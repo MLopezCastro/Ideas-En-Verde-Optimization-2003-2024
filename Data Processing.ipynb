{
 "cells": [
  {
   "cell_type": "code",
   "execution_count": null,
   "metadata": {},
   "outputs": [],
   "source": [
    "import pandas as pd\n",
    "import pyodbc\n",
    "\n",
    "# Connecting to SQL Server\n",
    "driver = \"{SQL Server}\"  # Adjust based on your configuration\n",
    "server = \"DESKTOP-UFKKVAB\"\n",
    "database = \"Ideas en Verde Historical Records\"\n",
    "\n",
    "conn = pyodbc.connect(f'DRIVER={driver};SERVER={server};DATABASE={database};Trusted_Connection=yes;')\n",
    "cursor = conn.cursor()\n",
    "\n",
    "# Loading CSV into DataFrame\n",
    "csv_file = \"tabla_larga_corregida_manual_2024.csv\"\n",
    "df = pd.read_csv(csv_file)\n",
    "\n",
    "# Checking data\n",
    "df.info()\n",
    "print(df.head())\n",
    "\n",
    "# Converting date column\n",
    "df['Date'] = pd.to_datetime(df['Date'])\n",
    "\n",
    "# Transforming data to long format\n",
    "df_long = df.melt(id_vars=['Date'], var_name='Métrica', value_name='Valor')\n",
    "\n",
    "# Extracting client number\n",
    "df_long['Cliente'] = df_long['Métrica'].str.extract(r'_(\\d+)')\n",
    "df_long['Cliente'] = 'Cliente ' + df_long['Cliente'].astype(str)\n",
    "\n",
    "# Replacing underscore with slash in metric names\n",
    "df_long['Métrica'] = df_long['Métrica'].str.replace('_', '/')\n",
    "\n",
    "# Creating new table in SQL Server\n",
    "cursor.execute(\"\"\"\n",
    "    CREATE TABLE tabla_larga_cliente_2024 (\n",
    "        Date DATETIME,\n",
    "        Métrica VARCHAR(50),\n",
    "        Valor FLOAT,\n",
    "        Cliente VARCHAR(50),\n",
    "        NumericPart INT\n",
    "    )\n",
    "\"\"\")\n",
    "conn.commit()\n",
    "\n",
    "# Inserting data into SQL Server\n",
    "insert_query = \"INSERT INTO tabla_larga_cliente_2024 (Date, Métrica, Valor, Cliente, NumericPart) VALUES (?, ?, ?, ?, ?)\"\n",
    "for index, row in df_long.iterrows():\n",
    "    cursor.execute(insert_query, row['Date'], row['Métrica'], row['Valor'], row['Cliente'], int(row['Cliente'].split()[1]))\n",
    "conn.commit()\n",
    "\n",
    "# Closing connection\n",
    "cursor.close()\n",
    "conn.close()\n",
    "\n",
    "print(\"Data successfully loaded into SQL Server and transformed.\")\n"
   ]
  }
 ],
 "metadata": {
  "kernelspec": {
   "display_name": "Python 3",
   "language": "python",
   "name": "python3"
  },
  "language_info": {
   "codemirror_mode": {
    "name": "ipython",
    "version": 3
   },
   "file_extension": ".py",
   "mimetype": "text/x-python",
   "name": "python",
   "nbconvert_exporter": "python",
   "pygments_lexer": "ipython3",
   "version": "3.12.4"
  }
 },
 "nbformat": 4,
 "nbformat_minor": 2
}
